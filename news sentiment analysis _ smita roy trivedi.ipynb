{
 "cells": [
  {
   "cell_type": "code",
   "execution_count": null,
   "metadata": {},
   "outputs": [],
   "source": [
    "import eikon as ek\n",
    "from collections import Counter\n",
    "import pandas as pd\n",
    "from pandas import DataFrame\n",
    "import numpy as np\n",
    "from bs4 import BeautifulSoup\n",
    "from textblob import TextBlob\n",
    "import datetime\n",
    "from datetime import time\n",
    "import warnings\n",
    "warnings.filterwarnings(\"ignore\")\n",
    "ek.set_app_key('....')\n",
    "import nltk\n",
    "from nltk.tokenize import RegexpTokenizer\n",
    "from nltk.stem import WordNetLemmatizer,PorterStemmer\n",
    "import re"
   ]
  },
  {
   "cell_type": "code",
   "execution_count": null,
   "metadata": {},
   "outputs": [],
   "source": [
    "\n",
    "# dictionary with customised words\n",
    "import csv\n",
    "\n",
    "\n",
    "labels = {}\n",
    "\n",
    "with open(r'.....\\dict.csv', mode='r') as inp:\n",
    "    reader = csv.reader(inp)\n",
    "    labels = {rows[0]:rows[1] for rows in reader}\n",
    "\n",
    "print(labels)\n"
   ]
  },
  {
   "cell_type": "code",
   "execution_count": null,
   "metadata": {},
   "outputs": [],
   "source": [
    "def matcher(k):\n",
    "    x = (i for i in labels if i in k)\n",
    "    return ' | '.join(map(labels.get, x))"
   ]
  },
  {
   "cell_type": "code",
   "execution_count": null,
   "metadata": {},
   "outputs": [],
   "source": [
    "df1 = ek.get_news_headlines('Topic:COVID AND Language:LEN AND Source:RTRS', date_from='2021-03-01T09:00:00',date_to='2021-03-02T09:00:00',count=50)\n",
    "df1['filtered_words']=np.nan\n",
    "df1['flag_list']=np.nan\n",
    "df1['counter']=np.nan\n",
    "for idx, storyId in enumerate(df1['storyId'].values):  #for each row in our df1 dataframe\n",
    "    newsText = ek.get_news_story(storyId) #get the news story\n",
    "    if newsText:\n",
    "        soup = BeautifulSoup(newsText,\"lxml\") #create a BeautifulSoup object from our HTML news article\n",
    "        sentence = newsText.lower()\n",
    "        sentence=sentence.replace('{html}',\"\") \n",
    "        cleanr = re.compile('<.*?>')\n",
    "        cleantext = re.sub(cleanr, '', sentence)\n",
    "        rem_url=re.sub(r'http\\S+', '',cleantext)\n",
    "        rem_num = re.sub('[0-9]+', '', rem_url)\n",
    "        tokenizer = RegexpTokenizer(r'\\w+')\n",
    "        tokens = tokenizer.tokenize(rem_num)  \n",
    "        filtered_words = [w for w in tokens if len(w) > 2 ] \n",
    "        df1['filtered_words'].iloc[idx] =  filtered_words\n",
    "        df1['filtered_words'] = df1['filtered_words'].astype(str,'ignore')\n",
    "        df1['flag_list']=df1['filtered_words'].apply(matcher)\n",
    "        df1['flag_list'] = df1['flag_list'].astype(str,'ignore')\n",
    "        df1['number']=df1['filtered_words'].str.count(r'[a-z]')\n",
    "        df1['number2']=df1['flag_list'].str.count(r'[a-z]')\n",
    "        df1['fore']=df1['filtered_words'].str.findall(r'\\'\\b(forebroding|uncertianty|fear|worry)\\b\\'')\n",
    "        df1['fore'] = df1['fore'].astype(str,'ignore')\n",
    "        df1['count_flag']=df1['fore'].str.count(r'[a-z]')\n",
    "        df1['term_frequency']=df1['count_flag']/df1['number']\n",
    "        df1['flag_list'] = df1['flag_list'].astype(str,'ignore')\n",
    "        df1['count_flag_pos']=df1['flag_list'].str.findall(r'(pos)')\n",
    "        df1['count_flag_pos'] = df1['count_flag_pos'].astype(str,'ignore')\n",
    "        df1['count_flag_pos1']=df1['count_flag_pos'].str.count(r'[a-z]')\n",
    "        df1['count_flag_neg']=df1['flag_list'].str.findall(r'neg')\n",
    "        df1['count_flag_neg'] = df1['count_flag_neg'].astype(str,'ignore')\n",
    "        df1['count_flag_neg1']=df1['count_flag_neg'].str.count(r'[a-z]')\n",
    "        df1['sentiment']=(df1['count_flag_pos1']+1)/(df1['count_flag_neg1']+1)\n",
    "        df1['sentiment2']=(df1['count_flag_pos1'])/(df1['count_flag_neg1']+df1['count_flag_pos1'])\n",
    "df1.head()"
   ]
  }
 ],
 "metadata": {
  "kernelspec": {
   "display_name": "Python 3",
   "language": "python",
   "name": "python3"
  },
  "language_info": {
   "codemirror_mode": {
    "name": "ipython",
    "version": 3
   },
   "file_extension": ".py",
   "mimetype": "text/x-python",
   "name": "python",
   "nbconvert_exporter": "python",
   "pygments_lexer": "ipython3",
   "version": "3.8.5"
  }
 },
 "nbformat": 4,
 "nbformat_minor": 4
}
